{
 "cells": [
  {
   "cell_type": "code",
   "execution_count": null,
   "id": "36c6a178",
   "metadata": {},
   "outputs": [
    {
     "ename": "",
     "evalue": "",
     "output_type": "error",
     "traceback": [
      "\u001b[1;31mRunning cells with '.venv (Python 3.11.10)' requires the ipykernel package.\n",
      "\u001b[1;31mInstall 'ipykernel' into the Python environment. \n",
      "\u001b[1;31mCommand: '/home/user/PRE-04-clasificacion-basica-de-imagenes-JJMunera/.venv/bin/python -m pip install ipykernel -U --force-reinstall'"
     ]
    }
   ],
   "source": [
    "# %%\n",
    "\n",
    "import matplotlib.pyplot as plt\n",
    "from sklearn import datasets\n",
    "from sklearn.model_selection import train_test_split\n",
    "\n"
   ]
  },
  {
   "cell_type": "code",
   "execution_count": null,
   "id": "691da446",
   "metadata": {},
   "outputs": [
    {
     "ename": "",
     "evalue": "",
     "output_type": "error",
     "traceback": [
      "\u001b[1;31mRunning cells with '.venv (Python 3.11.10)' requires the ipykernel package.\n",
      "\u001b[1;31mInstall 'ipykernel' into the Python environment. \n",
      "\u001b[1;31mCommand: '/home/user/PRE-04-clasificacion-basica-de-imagenes-JJMunera/.venv/bin/python -m pip install ipykernel -U --force-reinstall'"
     ]
    }
   ],
   "source": [
    "# %%\n",
    "digits = datasets.load_digits()\n",
    "\n",
    "#\n",
    "# Tamaño del dataset\n",
    "#\n",
    "digits.images.shape"
   ]
  },
  {
   "cell_type": "code",
   "execution_count": null,
   "id": "37bdd705",
   "metadata": {},
   "outputs": [],
   "source": [
    "#\n",
    "# Ejemplo de una imagen (data)\n",
    "#\n",
    "digits.images[0, :, :]\n"
   ]
  },
  {
   "cell_type": "code",
   "execution_count": null,
   "id": "e734ab48",
   "metadata": {},
   "outputs": [],
   "source": [
    "# %%\n",
    "#\n",
    "# Clases\n",
    "#\n",
    "set(digits.target)\n",
    "\n"
   ]
  },
  {
   "cell_type": "code",
   "execution_count": null,
   "id": "d42c6b19",
   "metadata": {},
   "outputs": [],
   "source": [
    "# %%\n",
    "#\n",
    "# Ejemplo de una imagen\n",
    "#\n",
    "plt.figure()\n",
    "plt.imshow(digits.images[0], cmap=plt.cm.binary)\n",
    "plt.grid(False)\n",
    "plt.show()"
   ]
  },
  {
   "cell_type": "code",
   "execution_count": null,
   "id": "2f89c8e3",
   "metadata": {},
   "outputs": [],
   "source": [
    "# %%\n",
    "plt.figure(figsize=(8, 8))\n",
    "for i in range(25):\n",
    "    plt.subplot(5, 5, i + 1)\n",
    "    plt.xticks([])\n",
    "    plt.yticks([])\n",
    "    plt.grid(False)\n",
    "    plt.imshow(digits.images[i], cmap=plt.cm.binary)\n",
    "    plt.xlabel(digits.target[i])\n",
    "plt.show()"
   ]
  },
  {
   "cell_type": "code",
   "execution_count": null,
   "id": "e3a41793",
   "metadata": {},
   "outputs": [],
   "source": [
    "# %%\n",
    "# Cambio de las dimensiones de los datos\n",
    "#\n",
    "n_samples = len(digits.images)\n",
    "data = digits.images.reshape((n_samples, -1))\n",
    "data.shape#"
   ]
  },
  {
   "cell_type": "code",
   "execution_count": null,
   "id": "a2099666",
   "metadata": {},
   "outputs": [],
   "source": [
    "# %%\n",
    "#\n",
    "# Particionamiento de los datos\n",
    "#\n",
    "X_train, X_test, y_train, y_test = train_test_split(\n",
    "    data,\n",
    "    digits.target,\n",
    "    test_size=0.5,\n",
    "    shuffle=False,\n",
    ")"
   ]
  },
  {
   "cell_type": "code",
   "execution_count": null,
   "id": "61d4c078",
   "metadata": {},
   "outputs": [],
   "source": [
    "from sklearn.linear_model import LogisticRegression\n",
    "\n",
    "estimator = LogisticRegression(max_iter=1000)\n",
    "estimator\n",
    "\n",
    "estimator.fit(\n",
    "    X_train,\n",
    "    y_train,\n",
    ")\n"
   ]
  },
  {
   "cell_type": "code",
   "execution_count": null,
   "id": "a778ea30",
   "metadata": {},
   "outputs": [],
   "source": [
    "estimator.intercept_\n",
    "\n",
    "\n",
    "\n",
    "estimator.coef_\n",
    "\n",
    "\n",
    "\n",
    "from sklearn.metrics import accuracy_score\n",
    "\n",
    "#\n",
    "# Muestra de entrenamiento\n",
    "#\t\n",
    "accuracy_score(y_true=y_train, y_pred=estimator.predict(X_train))"
   ]
  },
  {
   "cell_type": "code",
   "execution_count": null,
   "id": "8c77d631",
   "metadata": {},
   "outputs": [],
   "source": [
    "\n",
    "#\n",
    "# Muestra de prueba#\n",
    "predictions = estimator.predict(X_test)\n",
    "predicted_proba = estimator.predict_proba(X_test)\n",
    "\n",
    "accuracy_score(y_true=y_test, y_pred=predictions)\n",
    "\n",
    "\n",
    "\n",
    "\n",
    "from sklearn.metrics import ConfusionMatrixDisplay\n",
    "\n",
    "disp = ConfusionMatrixDisplay.from_predictions(\n",
    "    y_test,\n",
    "    predictions,\n",
    "    cmap=\"Greens\",\n",
    ")\n",
    "disp.figure_.suptitle(\"Confusion Matrix\")\n",
    "print(f\"Confusion matrix:\\n{disp.confusion_matrix}\")\n",
    "\n",
    "\n",
    "\n",
    "\n",
    "def plot_image(i, predicted_label, true_label, predicted_proba, img):\n",
    "\n",
    "    true_label, img = true_label[i], img[i]\n",
    "    plt.grid(False)\n",
    "    plt.xticks([])\n",
    "    plt.yticks([])\n",
    "    #\n",
    "    plt.imshow(img, cmap=plt.cm.binary)\n",
    "\n",
    "    if predicted_label[i] == true_label:\n",
    "        color = \"blue\"\n",
    "    else:\n",
    "        color = \"red\"\n",
    "\n",
    "    plt.xlabel(\n",
    "        \"{} {:2.0f}% ({})\".format(\n",
    "            predicted_label[i],\n",
    "            100 * max(predicted_proba[i, :]),\n",
    "            true_label,\n",
    "        ),\n",
    "        color=color,\n",
    "    )\n",
    "\n",
    "\n",
    "def plot_value_array(i, predicted_proba, predicted_label, true_label):\n",
    "    #\n",
    "    plt.grid(False)\n",
    "    plt.xticks(range(10))\n",
    "    plt.yticks([])\n",
    "    thisplot = plt.bar(range(10), predicted_proba[i, :], color=\"#777777\")\n",
    "    plt.ylim([0, 1])\n",
    "    #\n",
    "    thisplot[predicted_label[i]].set_color(\"red\")\n",
    "    thisplot[true_label[i]].set_color(\"blue\")\n",
    "\n",
    "\n",
    "i = 0\n",
    "plt.figure(figsize=(6, 3))\n",
    "plt.subplot(1, 2, 1)\n",
    "plot_image(\n",
    "    i,\n",
    "    predictions,\n",
    "    y_test,\n",
    "    predicted_proba,\n",
    "    X_test.reshape(len(X_test), 8, 8),\n",
    ")\n",
    "plt.subplot(1, 2, 2)\n",
    "plot_value_array(\n",
    "    i,\n",
    "    predicted_proba,\n",
    "    predictions,\n",
    "    y_test,\n",
    ")\n",
    "plt.show()    \n",
    "    \n",
    "    \n",
    "    \n",
    "    \n",
    "    \n",
    "    \n",
    "    \n",
    "    \n",
    "num_rows = 5\n",
    "num_cols = 3\n",
    "num_images = num_rows * num_cols\n",
    "\n",
    "plt.figure(figsize=(2 * 2 * num_cols, 2 * num_rows))\n",
    "\n",
    "for i in range(num_images):\n",
    "    plt.subplot(num_rows, 2 * num_cols, 2 * i + 1)\n",
    "    plot_image(\n",
    "        i,\n",
    "        predictions,\n",
    "        y_test,\n",
    "        predicted_proba,\n",
    "        X_test.reshape(len(X_test), 8, 8),\n",
    "    )\n",
    "    plt.subplot(num_rows, 2 * num_cols, 2 * i + 2)\n",
    "    plot_value_array(\n",
    "        i,\n",
    "        predicted_proba,\n",
    "        predictions,\n",
    "        y_test,\n",
    "    )\n",
    "plt.tight_layout()\n",
    "plt.show()\n",
    "\n",
    "\t\n",
    "\n",
    "\n"
   ]
  },
  {
   "cell_type": "code",
   "execution_count": null,
   "id": "c1a9f659",
   "metadata": {},
   "outputs": [],
   "source": [
    "\n",
    "import pickle\n",
    "\n",
    "with open(\"estimator.pickle\", \"wb\") as file:\n",
    "    pickle.dump(estimator, file)\n",
    "    \n",
    "\n",
    "with open(\"estimator.pickle\", \"rb\") as file:\n",
    "    new_clf = pickle.load(file)\n",
    "\n",
    "accuracy_score(\n",
    "    y_true=digits.target,\n",
    "    y_pred=new_clf.predict(data),\n",
    ")"
   ]
  }
 ],
 "metadata": {
  "kernelspec": {
   "display_name": ".venv",
   "language": "python",
   "name": "python3"
  },
  "language_info": {
   "name": "python",
   "version": "3.11.10"
  }
 },
 "nbformat": 4,
 "nbformat_minor": 5
}
